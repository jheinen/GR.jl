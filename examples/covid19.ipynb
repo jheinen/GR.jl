{
 "cells": [
  {
   "attachments": {},
   "cell_type": "markdown",
   "metadata": {},
   "source": [
    "### Confirmed coronavirus cases by selected countries"
   ]
  },
  {
   "cell_type": "code",
   "execution_count": null,
   "metadata": {},
   "outputs": [],
   "source": [
    "ENV[\"GRDISPLAY\"] = \"js\"\n",
    "using GR"
   ]
  },
  {
   "cell_type": "code",
   "execution_count": null,
   "metadata": {},
   "outputs": [],
   "source": [
    "using DelimitedFiles"
   ]
  },
  {
   "cell_type": "code",
   "execution_count": null,
   "metadata": {},
   "outputs": [],
   "source": [
    "countries = [\"Germany\", \"Austria\", \"Belgium\", \"Netherlands\", \"France\", \"India\", \"Italy\", \"Spain\", \"US\"];"
   ]
  },
  {
   "attachments": {},
   "cell_type": "markdown",
   "metadata": {},
   "source": [
    "Grab data from the Johns Hopkins University Center for Systems Science and Engineering (JHU CSSE)."
   ]
  },
  {
   "cell_type": "code",
   "execution_count": null,
   "metadata": {},
   "outputs": [],
   "source": [
    "url = \"https://raw.githubusercontent.com/CSSEGISandData/COVID-19/master/csse_covid_19_data/csse_covid_19_time_series/time_series_covid19_confirmed_global.csv\";"
   ]
  },
  {
   "cell_type": "code",
   "execution_count": null,
   "metadata": {},
   "outputs": [],
   "source": [
    "download(url, \"covid19.csv\");"
   ]
  },
  {
   "cell_type": "code",
   "execution_count": null,
   "metadata": {},
   "outputs": [],
   "source": [
    "data = readdlm(\"covid19.csv\", ',')\n",
    "ncountries, ncols = size(data)\n",
    "ndays = ncols - 4;"
   ]
  },
  {
   "cell_type": "code",
   "execution_count": null,
   "metadata": {},
   "outputs": [],
   "source": [
    "cummulated = Dict()\n",
    "for i in 1:ncountries\n",
    "    country = data[i,2]\n",
    "    if country in countries\n",
    "        if !haskey(cummulated, country) cummulated[country] = zeros(ndays) end\n",
    "        cummulated[country] .+= collect(data[i,5:end])\n",
    "    end\n",
    "end"
   ]
  },
  {
   "cell_type": "code",
   "execution_count": null,
   "metadata": {},
   "outputs": [],
   "source": [
    "day = collect(Float64, 1:ndays);\n",
    "confirmed = hcat([cummulated[country] for country in countries]...);"
   ]
  },
  {
   "cell_type": "code",
   "execution_count": null,
   "metadata": {},
   "outputs": [],
   "source": [
    "plot(day, confirmed, xlim=(0, ndays+1), ylim=(10, 20_000_000), ylog=true,\n",
    "     title=\"Confirmed SARS–CoV–2 infections\", xlabel=\"Day\", ylabel=\"Confirmed\",\n",
    "     labels=countries, location=4)"
   ]
  }
 ],
 "metadata": {
  "@webio": {
   "lastCommId": null,
   "lastKernelId": null
  },
  "kernelspec": {
   "display_name": "Julia 1.11.1",
   "language": "julia",
   "name": "julia-1.11"
  },
  "language_info": {
   "file_extension": ".jl",
   "mimetype": "application/julia",
   "name": "julia",
   "version": "1.11.1"
  }
 },
 "nbformat": 4,
 "nbformat_minor": 4
}
